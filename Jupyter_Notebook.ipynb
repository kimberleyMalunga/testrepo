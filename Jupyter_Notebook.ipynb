{
  "nbformat": 4,
  "nbformat_minor": 0,
  "metadata": {
    "colab": {
      "provenance": []
    },
    "kernelspec": {
      "name": "python3",
      "display_name": "Python 3"
    },
    "language_info": {
      "name": "python"
    }
  },
  "cells": [
    {
      "cell_type": "markdown",
      "source": [
        "#Data Science Tools and Ecosystem"
      ],
      "metadata": {
        "id": "S5PYxKrBMJC0"
      }
    },
    {
      "cell_type": "markdown",
      "source": [
        "##In this notebook, Data Science Tools and Ecosystem are summarized"
      ],
      "metadata": {
        "id": "sYCawTcFM7iw"
      }
    },
    {
      "cell_type": "markdown",
      "source": [
        "Some of the popular languages that Data Scientists use are:\n",
        "1. Python\n",
        "2. R\n",
        "3. sql\n"
      ],
      "metadata": {
        "id": "x9Mwo5k2NGVy"
      }
    },
    {
      "cell_type": "markdown",
      "source": [
        "Some of the commonly used libraries used by Data Scientists include:\n",
        "1. Numpy\n",
        "2. Seaborn\n",
        "3. Pandas"
      ],
      "metadata": {
        "id": "Nlu3qwPvOd5i"
      }
    },
    {
      "cell_type": "markdown",
      "source": [
        "|Data Science Tools|\n",
        "|------------------|\n",
        "|Vs Code|\n",
        "|R Studio|\n",
        "|Jupyter Notebook|"
      ],
      "metadata": {
        "id": "7zezPSVkPZOC"
      }
    },
    {
      "cell_type": "markdown",
      "source": [
        "###Below are a few examples of evaluating arithmetic expressions in Python\n",
        "1. add = 5 + 5\n",
        "2. subtract = 5-5\n",
        "3. multiply = 5*5\n"
      ],
      "metadata": {
        "id": "Cf9zi7V_QfFp"
      }
    },
    {
      "cell_type": "code",
      "source": [
        "#This a simple arithmetic expression to mutiply then add integers\n",
        "(3*4)+5\n"
      ],
      "metadata": {
        "colab": {
          "base_uri": "https://localhost:8080/"
        },
        "id": "PVDB9A9QQvik",
        "outputId": "ca7aa1ba-aa69-4458-a05a-f9c72ce230cd"
      },
      "execution_count": 5,
      "outputs": [
        {
          "output_type": "execute_result",
          "data": {
            "text/plain": [
              "17"
            ]
          },
          "metadata": {},
          "execution_count": 5
        }
      ]
    },
    {
      "cell_type": "code",
      "source": [
        "#This will convert 200 minutes to hours by diving by 60\n",
        "hours = 200/60\n",
        "print(hours)"
      ],
      "metadata": {
        "colab": {
          "base_uri": "https://localhost:8080/"
        },
        "id": "ybV14rONRpwc",
        "outputId": "e888062d-fa3d-4026-af37-eba6ce66ba69"
      },
      "execution_count": 7,
      "outputs": [
        {
          "output_type": "stream",
          "name": "stdout",
          "text": [
            "3.3333333333333335\n"
          ]
        }
      ]
    },
    {
      "cell_type": "markdown",
      "source": [
        "**Objectives:**\n",
        "\n",
        "- List popular languages for Data Science.\n",
        "- List a few examples of evaluating arithmetic expressions in Python\n",
        "- List a few examples of evaluating arithmetic expressions in Python"
      ],
      "metadata": {
        "id": "F1siHOtWShDC"
      }
    },
    {
      "cell_type": "markdown",
      "source": [
        "##Author\n",
        "Kimberley Rutendo Malunga"
      ],
      "metadata": {
        "id": "mw3d0t8zT7v3"
      }
    },
    {
      "cell_type": "code",
      "source": [],
      "metadata": {
        "id": "lPQo4DWWUL_o"
      },
      "execution_count": null,
      "outputs": []
    }
  ]
}